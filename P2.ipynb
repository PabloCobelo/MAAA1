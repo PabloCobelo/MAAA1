{
 "cells": [
  {
   "cell_type": "code",
   "execution_count": 9,
   "metadata": {},
   "outputs": [],
   "source": [
    "using CSV\n",
    "using DataFrames\n",
    "using Statistics\n",
    "# Ruta al archivo CSV\n",
    "file_path = \"Datos_Práctica_Evaluación_1.csv\"\n",
    "\n",
    "# Cargar los datos\n",
    "data = CSV.read(file_path, DataFrame)\n",
    "\n",
    "# Descripción de los datos\n",
    "println(\"Descripción de los datos:\")\n",
    "println(\"Número de variables (columnas): \", size(data, 2)-2)\n",
    "println(\"Número de instancias (filas): \", size(data, 1))\n",
    "println(\"Número de individuos únicos: \", length(unique(data.subject)))\n",
    "println(\"Número de clases de salida: \", length(unique(data.Activity)))\n",
    "missing_percentage_per_column = map(col -> mean(ismissing, col) * 100, eachcol(data))\n",
    "println(\"Porcentaje de nulos por variable:\", missing_percentage_per_column)\n",
    "println(\"Media de todos los porcentajes de nulo: \",sum(missing_percentage_per_column) / length(missing_percentage_per_column))\n"
   ]
  },
  {
   "cell_type": "code",
   "execution_count": 10,
   "metadata": {},
   "outputs": [],
   "source": [
    "using CSV\n",
    "using DataFrames\n",
    "using Statistics\n",
    "using MLJ  # Para técnicas de preprocesamiento\n",
    "\n",
    "# Cargar datos\n",
    "file_path = \"C:\\\\Users\\\\leonf\\\\OneDrive\\\\Documentos\\\\AA_PRIMER_CUATRI\\\\MAAAI\\\\MAAA1\\\\Datos_Práctica_Evaluación_1.csv\"\n",
    "data = CSV.read(file_path, DataFrame)\n",
    "\n",
    "# Rellenar valores faltantes\n",
    "for col in names(data)\n",
    "    if eltype(data[!, col]) <: Union{Missing, Number}  # Para columnas numéricas\n",
    "        mean_value = mean(skipmissing(data[!, col]))  # Promedio de valores existentes\n",
    "        if eltype(data[!, col]) <: Int  # Si la columna es de tipo entero\n",
    "            mean_value = Int(round(mean_value))  # Redondear y convertir a entero\n",
    "        end\n",
    "        data[ismissing.(data[!, col]), col] .= mean_value  # Rellenar valores faltantes\n",
    "    elseif eltype(data[!, col]) <: Union{Missing, AbstractString}  # Para columnas de texto\n",
    "        mode_value = mode(skipmissing(data[!, col]))  # Valor más frecuente\n",
    "        data[ismissing.(data[!, col]), col] .= mode_value\n",
    "    end\n",
    "end\n",
    "\n",
    "println(\"Relleno de valores faltantes completado.\")\n",
    "\n",
    "\n",
    "# 3. Codificar variables categóricas\n",
    "categorical_cols = filter(col -> eltype(data[!, col]) <: AbstractString, names(data))\n",
    "println(\"Variables categóricas detectadas: \", categorical_cols)\n",
    "for col in categorical_cols\n",
    "    data[!, col] = categorical(data[!, col])  # Convertir a tipo categórico\n",
    "end\n",
    "\n",
    "# 4. Escalar variables numéricas\n",
    "numerical_cols = filter(col -> eltype(data[!, col]) <: Number, names(data))\n",
    "for col in numerical_cols\n",
    "    col_values = data[!, col]\n",
    "    data[!, col] = (col_values .- mean(col_values)) ./ std(col_values)  # Z-score\n",
    "end\n",
    "\n",
    "println(\"Transformación de datos completada.\")\n",
    "\n",
    "# 5. Verificar los datos transformados\n",
    "println(\"Primeras filas de los datos:\")\n",
    "println(first(data, 5))\n"
   ]
  },
  {
   "cell_type": "code",
   "execution_count": 11,
   "metadata": {},
   "outputs": [],
   "source": []
  },
  {
   "cell_type": "code",
   "execution_count": 12,
   "metadata": {},
   "outputs": [],
   "source": []
  }
 ],
 "metadata": {
  "kernelspec": {
   "display_name": "Julia 1.10.5",
   "language": "julia",
   "name": "julia-1.10"
  },
  "language_info": {
   "file_extension": ".jl",
   "mimetype": "application/julia",
   "name": "julia",
   "version": "1.10.5"
  }
 },
 "nbformat": 4,
 "nbformat_minor": 2
}
