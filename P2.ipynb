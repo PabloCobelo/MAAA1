{
 "cells": [
  {
   "cell_type": "code",
   "execution_count": 1,
   "metadata": {},
   "outputs": [
    {
     "name": "stdout",
     "output_type": "stream",
     "text": [
      "Descripción de los datos:\n",
      "Número de variables (columnas): 563\n",
      "Número de instancias (filas): 10299\n"
     ]
    }
   ],
   "source": [
    "using CSV\n",
    "using DataFrames\n",
    "\n",
    "# Ruta al archivo CSV\n",
    "file_path = \"C:\\\\Users\\\\leonf\\\\OneDrive\\\\Documentos\\\\AA_PRIMER_CUATRI\\\\MAAAI\\\\MAAA1\\\\Datos_Práctica_Evaluación_1.csv\"\n",
    "\n",
    "# Cargar los datos\n",
    "data = CSV.read(file_path, DataFrame)\n",
    "\n",
    "# Descripción de los datos\n",
    "println(\"Descripción de los datos:\")\n",
    "println(\"Número de variables (columnas): \", size(data, 2))\n",
    "println(\"Número de instancias (filas): \", size(data, 1))\n",
    "\n",
    "# Si los datos representan individuos únicos, se puede hacer un análisis adicional\n",
    "if :id in names(data) # Asumiendo que existe una columna identificadora llamada \"id\"\n",
    "    println(\"Número de individuos únicos: \", length(unique(data.id)))\n",
    "end\n",
    "\n",
    "# Si es un problema de clasificación, identificar las clases de salida\n",
    "# Asumiendo que la variable de salida se llama \"target\" o similar\n",
    "if :target in names(data)\n",
    "    println(\"Número de clases de salida: \", length(unique(data.target)))\n",
    "end\n"
   ]
  }
 ],
 "metadata": {
  "kernelspec": {
   "display_name": "Julia 1.10.5",
   "language": "julia",
   "name": "julia-1.10"
  },
  "language_info": {
   "file_extension": ".jl",
   "mimetype": "application/julia",
   "name": "julia",
   "version": "1.10.5"
  }
 },
 "nbformat": 4,
 "nbformat_minor": 2
}
